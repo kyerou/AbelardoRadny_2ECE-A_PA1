{
 "cells": [
  {
   "cell_type": "markdown",
   "id": "262d92ea-40b0-4683-a8d3-09494f9b23ab",
   "metadata": {},
   "source": [
    "ALPHABET SOUP PROBLEM"
   ]
  },
  {
   "cell_type": "code",
   "execution_count": 16,
   "id": "2015d044-2a42-4a15-9488-cc5cb81de032",
   "metadata": {},
   "outputs": [],
   "source": [
    "#def alphabet_soup():\n",
    "    #insert command like sort\n",
    "    #return\n",
    "\n",
    "def alphabet_soup(string):\n",
    "    string = \"\".join(sorted(string.replace(\"\",\"\")))\n",
    "    return string"
   ]
  },
  {
   "cell_type": "code",
   "execution_count": 17,
   "id": "cffce01a-b8bc-429e-807e-d3f2fcbb10b9",
   "metadata": {},
   "outputs": [
    {
     "data": {
      "text/plain": [
       "'ehllo'"
      ]
     },
     "execution_count": 17,
     "metadata": {},
     "output_type": "execute_result"
    }
   ],
   "source": [
    "alphabet_soup(\"hello\")"
   ]
  },
  {
   "cell_type": "code",
   "execution_count": 18,
   "id": "92d0d58e-eef2-4416-a7d6-3e82090a8e8e",
   "metadata": {},
   "outputs": [
    {
     "data": {
      "text/plain": [
       "'acehkr'"
      ]
     },
     "execution_count": 18,
     "metadata": {},
     "output_type": "execute_result"
    }
   ],
   "source": [
    "alphabet_soup(\"hacker\")"
   ]
  },
  {
   "cell_type": "markdown",
   "id": "6ad75fcd-e5bd-4644-91f3-30bd523fe042",
   "metadata": {},
   "source": [
    "EMOTICON PROBLEM"
   ]
  },
  {
   "cell_type": "code",
   "execution_count": 19,
   "id": "2ed20f19-6037-4191-8d24-134fab3dc914",
   "metadata": {},
   "outputs": [],
   "source": [
    "#def emotifdy(string):\n",
    "    #emoticons = {\n",
    "        #\"insert string\" : \"insert emoticon\",\n",
    "        #\"insert string\" : \"insert emoticon\"\n",
    "    #}\n",
    "\n",
    "def emotify(string):\n",
    "    emoticons ={\n",
    "        \"smile\": \":)\",\n",
    "        \"grin\": \":D\",\n",
    "        \"sad\": \":((\",\n",
    "        \"mad\": \">:(\"\n",
    "    }\n",
    "    for word, emoticon in emoticons.items():\n",
    "        string = string.replace(word, emoticon)\n",
    "    return string  "
   ]
  },
  {
   "cell_type": "code",
   "execution_count": 20,
   "id": "577c0e8f-6bdd-411b-9c96-1cb30fad1f9f",
   "metadata": {},
   "outputs": [
    {
     "data": {
      "text/plain": [
       "'Make me :)'"
      ]
     },
     "execution_count": 20,
     "metadata": {},
     "output_type": "execute_result"
    }
   ],
   "source": [
    "emotify(\"Make me smile\")"
   ]
  },
  {
   "cell_type": "code",
   "execution_count": 21,
   "id": "7a805e63-c5b3-4892-9d7f-e3936f022b37",
   "metadata": {},
   "outputs": [
    {
     "data": {
      "text/plain": [
       "'I am >:('"
      ]
     },
     "execution_count": 21,
     "metadata": {},
     "output_type": "execute_result"
    }
   ],
   "source": [
    "emotify(\"I am mad\")"
   ]
  },
  {
   "cell_type": "code",
   "execution_count": 22,
   "id": "984f50f0-b698-4ae4-8c6d-e645ebf75857",
   "metadata": {},
   "outputs": [
    {
     "data": {
      "text/plain": [
       "'I am very :(('"
      ]
     },
     "execution_count": 22,
     "metadata": {},
     "output_type": "execute_result"
    }
   ],
   "source": [
    "emotify(\"I am very sad\")"
   ]
  },
  {
   "cell_type": "code",
   "execution_count": 23,
   "id": "ca261c83-6a7e-428c-802b-7e6666657212",
   "metadata": {},
   "outputs": [
    {
     "data": {
      "text/plain": [
       "'She has a big :D in her face'"
      ]
     },
     "execution_count": 23,
     "metadata": {},
     "output_type": "execute_result"
    }
   ],
   "source": [
    "emotify(\"She has a big grin in her face\")"
   ]
  },
  {
   "cell_type": "markdown",
   "id": "0518174a-16cb-490e-b22c-7cff46c58c18",
   "metadata": {},
   "source": [
    "UNPACKING PROBLEM"
   ]
  },
  {
   "cell_type": "code",
   "execution_count": 24,
   "id": "459f0b0d-198b-40c2-9b49-96f7d6525e49",
   "metadata": {},
   "outputs": [],
   "source": [
    "#def unpack_list_slicing(input):\n",
    "    #first = input[0]\n",
    "    #middle = input[1:-1]\n",
    "    #last = input[1]\n",
    "\n",
    "    #print(f\"first: {first}\\tmiddle: {middle}\\tlast: {last}\")\n",
    "    #print first, middle, last\n",
    "\n",
    "def unpack_list_slicing(input):\n",
    "    first = input[0]\n",
    "    middle = input[1:-1]\n",
    "    last = input[-1]\n",
    "\n",
    "    print(f\"first: {first}\\tmiddle: {middle}\\tlast: {last}\")\n",
    "    return first, middle, last"
   ]
  },
  {
   "cell_type": "code",
   "execution_count": 25,
   "id": "5792ee82-476f-4cbc-b850-c46e88ac0a8c",
   "metadata": {},
   "outputs": [
    {
     "name": "stdout",
     "output_type": "stream",
     "text": [
      "first: 1\tmiddle: [2, 3, 4, 5]\tlast: 6\n"
     ]
    },
    {
     "data": {
      "text/plain": [
       "(1, [2, 3, 4, 5], 6)"
      ]
     },
     "execution_count": 25,
     "metadata": {},
     "output_type": "execute_result"
    }
   ],
   "source": [
    "unpack_list_slicing(input = [1,2,3,4,5,6])"
   ]
  }
 ],
 "metadata": {
  "kernelspec": {
   "display_name": "Python [conda env:base] *",
   "language": "python",
   "name": "conda-base-py"
  },
  "language_info": {
   "codemirror_mode": {
    "name": "ipython",
    "version": 3
   },
   "file_extension": ".py",
   "mimetype": "text/x-python",
   "name": "python",
   "nbconvert_exporter": "python",
   "pygments_lexer": "ipython3",
   "version": "3.13.5"
  }
 },
 "nbformat": 4,
 "nbformat_minor": 5
}
